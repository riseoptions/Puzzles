{
  "nbformat": 4,
  "nbformat_minor": 0,
  "metadata": {
    "colab": {
      "provenance": [],
      "authorship_tag": "ABX9TyPJm32BI8G2mQ9IPAUrmvhS",
      "include_colab_link": true
    },
    "kernelspec": {
      "name": "python3",
      "display_name": "Python 3"
    },
    "language_info": {
      "name": "python"
    }
  },
  "cells": [
    {
      "cell_type": "markdown",
      "metadata": {
        "id": "view-in-github",
        "colab_type": "text"
      },
      "source": [
        "<a href=\"https://colab.research.google.com/github/riseoptions/Puzzles/blob/main/Wordle_comb.ipynb\" target=\"_parent\"><img src=\"https://colab.research.google.com/assets/colab-badge.svg\" alt=\"Open In Colab\"/></a>"
      ]
    },
    {
      "cell_type": "code",
      "source": [
        "from google.colab import files\n",
        "uploaded = files.upload()"
      ],
      "metadata": {
        "colab": {
          "base_uri": "https://localhost:8080/",
          "height": 73
        },
        "id": "8rqfyHYDv2-R",
        "outputId": "582578d4-2fe9-4ef9-e909-161a88b5b3f6"
      },
      "execution_count": 1,
      "outputs": [
        {
          "output_type": "display_data",
          "data": {
            "text/plain": [
              "<IPython.core.display.HTML object>"
            ],
            "text/html": [
              "\n",
              "     <input type=\"file\" id=\"files-9a48c22c-d748-4991-a1c7-afa2255cd1e9\" name=\"files[]\" multiple disabled\n",
              "        style=\"border:none\" />\n",
              "     <output id=\"result-9a48c22c-d748-4991-a1c7-afa2255cd1e9\">\n",
              "      Upload widget is only available when the cell has been executed in the\n",
              "      current browser session. Please rerun this cell to enable.\n",
              "      </output>\n",
              "      <script>// Copyright 2017 Google LLC\n",
              "//\n",
              "// Licensed under the Apache License, Version 2.0 (the \"License\");\n",
              "// you may not use this file except in compliance with the License.\n",
              "// You may obtain a copy of the License at\n",
              "//\n",
              "//      http://www.apache.org/licenses/LICENSE-2.0\n",
              "//\n",
              "// Unless required by applicable law or agreed to in writing, software\n",
              "// distributed under the License is distributed on an \"AS IS\" BASIS,\n",
              "// WITHOUT WARRANTIES OR CONDITIONS OF ANY KIND, either express or implied.\n",
              "// See the License for the specific language governing permissions and\n",
              "// limitations under the License.\n",
              "\n",
              "/**\n",
              " * @fileoverview Helpers for google.colab Python module.\n",
              " */\n",
              "(function(scope) {\n",
              "function span(text, styleAttributes = {}) {\n",
              "  const element = document.createElement('span');\n",
              "  element.textContent = text;\n",
              "  for (const key of Object.keys(styleAttributes)) {\n",
              "    element.style[key] = styleAttributes[key];\n",
              "  }\n",
              "  return element;\n",
              "}\n",
              "\n",
              "// Max number of bytes which will be uploaded at a time.\n",
              "const MAX_PAYLOAD_SIZE = 100 * 1024;\n",
              "\n",
              "function _uploadFiles(inputId, outputId) {\n",
              "  const steps = uploadFilesStep(inputId, outputId);\n",
              "  const outputElement = document.getElementById(outputId);\n",
              "  // Cache steps on the outputElement to make it available for the next call\n",
              "  // to uploadFilesContinue from Python.\n",
              "  outputElement.steps = steps;\n",
              "\n",
              "  return _uploadFilesContinue(outputId);\n",
              "}\n",
              "\n",
              "// This is roughly an async generator (not supported in the browser yet),\n",
              "// where there are multiple asynchronous steps and the Python side is going\n",
              "// to poll for completion of each step.\n",
              "// This uses a Promise to block the python side on completion of each step,\n",
              "// then passes the result of the previous step as the input to the next step.\n",
              "function _uploadFilesContinue(outputId) {\n",
              "  const outputElement = document.getElementById(outputId);\n",
              "  const steps = outputElement.steps;\n",
              "\n",
              "  const next = steps.next(outputElement.lastPromiseValue);\n",
              "  return Promise.resolve(next.value.promise).then((value) => {\n",
              "    // Cache the last promise value to make it available to the next\n",
              "    // step of the generator.\n",
              "    outputElement.lastPromiseValue = value;\n",
              "    return next.value.response;\n",
              "  });\n",
              "}\n",
              "\n",
              "/**\n",
              " * Generator function which is called between each async step of the upload\n",
              " * process.\n",
              " * @param {string} inputId Element ID of the input file picker element.\n",
              " * @param {string} outputId Element ID of the output display.\n",
              " * @return {!Iterable<!Object>} Iterable of next steps.\n",
              " */\n",
              "function* uploadFilesStep(inputId, outputId) {\n",
              "  const inputElement = document.getElementById(inputId);\n",
              "  inputElement.disabled = false;\n",
              "\n",
              "  const outputElement = document.getElementById(outputId);\n",
              "  outputElement.innerHTML = '';\n",
              "\n",
              "  const pickedPromise = new Promise((resolve) => {\n",
              "    inputElement.addEventListener('change', (e) => {\n",
              "      resolve(e.target.files);\n",
              "    });\n",
              "  });\n",
              "\n",
              "  const cancel = document.createElement('button');\n",
              "  inputElement.parentElement.appendChild(cancel);\n",
              "  cancel.textContent = 'Cancel upload';\n",
              "  const cancelPromise = new Promise((resolve) => {\n",
              "    cancel.onclick = () => {\n",
              "      resolve(null);\n",
              "    };\n",
              "  });\n",
              "\n",
              "  // Wait for the user to pick the files.\n",
              "  const files = yield {\n",
              "    promise: Promise.race([pickedPromise, cancelPromise]),\n",
              "    response: {\n",
              "      action: 'starting',\n",
              "    }\n",
              "  };\n",
              "\n",
              "  cancel.remove();\n",
              "\n",
              "  // Disable the input element since further picks are not allowed.\n",
              "  inputElement.disabled = true;\n",
              "\n",
              "  if (!files) {\n",
              "    return {\n",
              "      response: {\n",
              "        action: 'complete',\n",
              "      }\n",
              "    };\n",
              "  }\n",
              "\n",
              "  for (const file of files) {\n",
              "    const li = document.createElement('li');\n",
              "    li.append(span(file.name, {fontWeight: 'bold'}));\n",
              "    li.append(span(\n",
              "        `(${file.type || 'n/a'}) - ${file.size} bytes, ` +\n",
              "        `last modified: ${\n",
              "            file.lastModifiedDate ? file.lastModifiedDate.toLocaleDateString() :\n",
              "                                    'n/a'} - `));\n",
              "    const percent = span('0% done');\n",
              "    li.appendChild(percent);\n",
              "\n",
              "    outputElement.appendChild(li);\n",
              "\n",
              "    const fileDataPromise = new Promise((resolve) => {\n",
              "      const reader = new FileReader();\n",
              "      reader.onload = (e) => {\n",
              "        resolve(e.target.result);\n",
              "      };\n",
              "      reader.readAsArrayBuffer(file);\n",
              "    });\n",
              "    // Wait for the data to be ready.\n",
              "    let fileData = yield {\n",
              "      promise: fileDataPromise,\n",
              "      response: {\n",
              "        action: 'continue',\n",
              "      }\n",
              "    };\n",
              "\n",
              "    // Use a chunked sending to avoid message size limits. See b/62115660.\n",
              "    let position = 0;\n",
              "    do {\n",
              "      const length = Math.min(fileData.byteLength - position, MAX_PAYLOAD_SIZE);\n",
              "      const chunk = new Uint8Array(fileData, position, length);\n",
              "      position += length;\n",
              "\n",
              "      const base64 = btoa(String.fromCharCode.apply(null, chunk));\n",
              "      yield {\n",
              "        response: {\n",
              "          action: 'append',\n",
              "          file: file.name,\n",
              "          data: base64,\n",
              "        },\n",
              "      };\n",
              "\n",
              "      let percentDone = fileData.byteLength === 0 ?\n",
              "          100 :\n",
              "          Math.round((position / fileData.byteLength) * 100);\n",
              "      percent.textContent = `${percentDone}% done`;\n",
              "\n",
              "    } while (position < fileData.byteLength);\n",
              "  }\n",
              "\n",
              "  // All done.\n",
              "  yield {\n",
              "    response: {\n",
              "      action: 'complete',\n",
              "    }\n",
              "  };\n",
              "}\n",
              "\n",
              "scope.google = scope.google || {};\n",
              "scope.google.colab = scope.google.colab || {};\n",
              "scope.google.colab._files = {\n",
              "  _uploadFiles,\n",
              "  _uploadFilesContinue,\n",
              "};\n",
              "})(self);\n",
              "</script> "
            ]
          },
          "metadata": {}
        },
        {
          "output_type": "stream",
          "name": "stdout",
          "text": [
            "Saving lemmad.txt to lemmad.txt\n"
          ]
        }
      ]
    },
    {
      "cell_type": "code",
      "source": [
        "# Faili lugemine\n",
        "file_name = list(uploaded.keys())[0]  # Võtab üleslaaditud faili nime\n",
        "with open(file_name, 'r', encoding='utf-8') as file:\n",
        "    words = file.readlines()\n"
      ],
      "metadata": {
        "id": "f_2ed8CKwFVj"
      },
      "execution_count": 2,
      "outputs": []
    },
    {
      "cell_type": "code",
      "source": [
        "# Loeme sõnad failist ja rakendame filtreerimise\n",
        "with open('lemmad.txt', 'r', encoding='utf-8') as file:\n",
        "    words = file.readlines()"
      ],
      "metadata": {
        "id": "qIksTU_Kvcp3"
      },
      "execution_count": 3,
      "outputs": []
    },
    {
      "cell_type": "markdown",
      "source": [
        "![Screenshot 2025-02-07 012303.png](data:image/png;base64,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)"
      ],
      "metadata": {
        "id": "jJ2ShRKpkmfE"
      }
    },
    {
      "cell_type": "code",
      "execution_count": 31,
      "metadata": {
        "id": "g_l16fRuvHDl"
      },
      "outputs": [],
      "source": [
        "# Funktsioon sõnade filtreerimiseks\n",
        "def filter_words(word):\n",
        "    required_letters = set('tai')\n",
        "    forbidden_letters = set('es')\n",
        "\n",
        "    # Kontrollime, et sõna on täpselt N tähemärki pikk\n",
        "    if len(word) != 5:\n",
        "        return False\n",
        "\n",
        "    # Kontrollime, et sõna sisaldab vajalikke tähti ja ei sisalda keelatud tähti\n",
        "    if not (required_letters.issubset(set(word)) and not forbidden_letters.intersection(set(word))):\n",
        "        return False\n",
        "\n",
        "    # Täiendavad positsioonitingimused\n",
        "    if word[0] == 't' or word[1] == 'a' \\\n",
        "       or word[2] != 'i'  :\n",
        "        return False\n",
        "\n",
        "    return True"
      ]
    },
    {
      "cell_type": "code",
      "source": [
        "# Filtreerime ja trükime tulemused\n",
        "filtered_words = [word.strip() for word in words if filter_words(word.strip())]"
      ],
      "metadata": {
        "id": "T0FD_acovXY9"
      },
      "execution_count": 32,
      "outputs": []
    },
    {
      "cell_type": "code",
      "source": [
        "# Trükime sobivad sõnad\n",
        "for word in filtered_words:\n",
        "    print(word)"
      ],
      "metadata": {
        "colab": {
          "base_uri": "https://localhost:8080/"
        },
        "id": "vk2BuH87vgxK",
        "outputId": "a50e988c-f947-4bee-df61-503ce689ae76"
      },
      "execution_count": 33,
      "outputs": [
        {
          "output_type": "stream",
          "name": "stdout",
          "text": [
            "abitu\n"
          ]
        }
      ]
    },
    {
      "cell_type": "markdown",
      "source": [
        "**Mitmes sõnas vastavad tähed esinevad:**"
      ],
      "metadata": {
        "id": "_Y3pfLauiL2i"
      }
    },
    {
      "cell_type": "code",
      "source": [
        "from collections import defaultdict\n",
        "\n",
        "def count_words_with_letters(filename):\n",
        "    # Loome dictionary, kus võtmed on tähed a kuni z ja väärtused on loendurid\n",
        "    letter_count = defaultdict(int)\n",
        "\n",
        "    # Loeme faili ridade kaupa\n",
        "    with open(filename, 'r', encoding='utf-8') as file:\n",
        "        for line in file:\n",
        "            word = line.strip().lower()  # Eemaldame tühikud ja teisendame sõna väikesteks tähtedeks\n",
        "\n",
        "            # Läbime kõik tähed a kuni z ja kontrollime, kas täht on sõnas\n",
        "            for letter in 'abcdefghijklmnopqrstuvwxyzõäöü':\n",
        "                if letter in word:\n",
        "                    letter_count[letter] += 1\n",
        "\n",
        "    return dict(letter_count)\n",
        "\n",
        "def sort_by_value_desc(dictionary):\n",
        "    # Sorteerime dictionary võtmed väärtuse järgi, suurimast väiksemaks\n",
        "    return sorted(dictionary.items(), key=lambda item: item[1], reverse=True)\n",
        "\n",
        "# Näide kasutamisest:\n",
        "filename = 'lemmad.txt'\n",
        "letter_dict = count_words_with_letters(filename)\n",
        "sorted_letter_count = sort_by_value_desc(letter_dict)\n",
        "\n",
        "# Väljasta tulemused\n",
        "for letter, count in sorted_letter_count:\n",
        "    print(f\"{letter}: {count}\")\n",
        "\n"
      ],
      "metadata": {
        "colab": {
          "base_uri": "https://localhost:8080/"
        },
        "id": "8FWKfii_iHQQ",
        "outputId": "c40e2634-c566-4ed6-df94-d8845127fb81"
      },
      "execution_count": 25,
      "outputs": [
        {
          "output_type": "stream",
          "name": "stdout",
          "text": [
            "a: 71636\n",
            "i: 64673\n",
            "e: 58306\n",
            "s: 57755\n",
            "t: 52807\n",
            "l: 49658\n",
            "u: 47253\n",
            "k: 46369\n",
            "r: 46276\n",
            "n: 42340\n",
            "m: 38524\n",
            "o: 29726\n",
            "p: 26629\n",
            "v: 24222\n",
            "d: 22997\n",
            "h: 18454\n",
            "g: 15906\n",
            "õ: 12180\n",
            "j: 12020\n",
            "ä: 11355\n",
            "ü: 8754\n",
            "b: 8512\n",
            "f: 3252\n",
            "ö: 3101\n",
            "c: 95\n",
            "z: 49\n",
            "y: 25\n",
            "x: 13\n",
            "w: 10\n",
            "q: 8\n"
          ]
        }
      ]
    },
    {
      "cell_type": "markdown",
      "source": [
        "**Mitmes sõnas antud listist vastavad tähed esinevad:**"
      ],
      "metadata": {
        "id": "zE0gcIkTiiRZ"
      }
    },
    {
      "cell_type": "code",
      "source": [
        "def count_consecutive_words_with_letters(words):\n",
        "    letter_streaks = {}  # Sõnastik, kuhu salvestame tähed ja nende järjestikuste sõnade arvu\n",
        "    current_streak = {}  # Praeguse järjestikuse sõna jälgimine\n",
        "\n",
        "    for word in words:\n",
        "        word_letters = set(word)  # Eemaldame korduvad tähed ja teeme sõnast hulga\n",
        "\n",
        "        # Uuendame streaki iga tähe kohta\n",
        "        for letter in 'abcdefghijklmnopqrstuvwxyzõäöü':\n",
        "            if letter in word_letters:\n",
        "                # Kui täht on sõnas, jätkame tema streaki\n",
        "                current_streak[letter] = current_streak.get(letter, 0) + 1\n",
        "            else:\n",
        "                # Kui täht ei esine, lähtestame streaki\n",
        "                letter_streaks[letter] = max(letter_streaks.get(letter, 0), current_streak.get(letter, 0))\n",
        "                current_streak[letter] = 0\n",
        "\n",
        "    # Peale viimast sõna tuleb uuendada lõplikud streaki väärtused\n",
        "    for letter in 'abcdefghijklmnopqrstuvwxyzõäöü':\n",
        "        letter_streaks[letter] = max(letter_streaks.get(letter, 0), current_streak.get(letter, 0))\n",
        "\n",
        "    # Sorteerime tähtede järgi, mitu sõna nad järjestikuliselt esinesid\n",
        "    sorted_letters = sorted(letter_streaks.items(), key=lambda item: item[1], reverse=True)\n",
        "\n",
        "    return sorted_letters\n",
        "\n",
        "# Näide sõnadest:\n",
        "words = [\n",
        "    \"duett\", \"edutu\", \"efekt\", \"ehtne\", \"elutu\", \"ettur\", \"etüüd\", \"etüül\", \"etüün\",\n",
        "    \"forte\", \"hekto\", \"hetke\", \"joote\", \"juhte\", \"jätke\", \"kätte\", \"kütke\", \"kütte\",\n",
        "    \"lento\", \"loetu\", \"lähte\", \"mõõte\", \"neetu\", \"nõtke\", \"pette\", \"pleht\", \"plett\",\n",
        "    \"porte\", \"puhte\", \"puute\", \"retro\", \"rettu\", \"unetu\", \"uuelt\", \"veetu\", \"verte\",\n",
        "    \"ühtne\"\n",
        "]\n",
        "\n",
        "# Kasutame filtreeritud sõnu\n",
        "words = filtered_words\n",
        "\n",
        "# Leiame tähemärkide pingerea\n",
        "result = count_consecutive_words_with_letters(words)\n",
        "\n",
        "# Väljasta tulemused\n",
        "for letter, count in result:\n",
        "    print(f\"{letter}: {count}\")\n",
        "\n"
      ],
      "metadata": {
        "colab": {
          "base_uri": "https://localhost:8080/"
        },
        "id": "HYeHHkugigBM",
        "outputId": "7d57ebc2-ccbe-45ac-bc3b-f567d562cc54"
      },
      "execution_count": 28,
      "outputs": [
        {
          "output_type": "stream",
          "name": "stdout",
          "text": [
            "d: 1\n",
            "e: 1\n",
            "t: 1\n",
            "u: 1\n",
            "a: 0\n",
            "b: 0\n",
            "c: 0\n",
            "f: 0\n",
            "g: 0\n",
            "h: 0\n",
            "i: 0\n",
            "j: 0\n",
            "k: 0\n",
            "l: 0\n",
            "m: 0\n",
            "n: 0\n",
            "o: 0\n",
            "p: 0\n",
            "q: 0\n",
            "r: 0\n",
            "s: 0\n",
            "v: 0\n",
            "w: 0\n",
            "x: 0\n",
            "y: 0\n",
            "z: 0\n",
            "õ: 0\n",
            "ä: 0\n",
            "ö: 0\n",
            "ü: 0\n"
          ]
        }
      ]
    },
    {
      "cell_type": "markdown",
      "source": [
        "**Genereerime sobivaid sõnu:**"
      ],
      "metadata": {
        "id": "WKYneT2kjfdA"
      }
    },
    {
      "cell_type": "code",
      "source": [
        "# Funktsioon sõnade filtreerimiseks\n",
        "def filter_words(word):\n",
        "    required_letters = set('detu')\n",
        "    forbidden_letters = set('')\n",
        "\n",
        "    # Kontrollime, et sõna on täpselt 5 tähemärki pikk\n",
        "    if len(word) != 5:\n",
        "        return False\n",
        "\n",
        "    # Kontrollime, et sõna sisaldab vajalikke tähti ja ei sisalda keelatud tähti\n",
        "    if not (required_letters.issubset(set(word)) and not forbidden_letters.intersection(set(word))):\n",
        "        return False\n",
        "\n",
        "   # Täiendavad positsioonitingimused\n",
        "    if word[0] == 'r' or word[1] == 'r' \\\n",
        "       or word[2] == 'o' or word[4] == 'a' :\n",
        "        return False\n",
        "\n",
        "    return True\n",
        "\n",
        "# Loeme sõnad failist ja rakendame filtreerimise\n",
        "with open('lemmad.txt', 'r', encoding='utf-8') as file:\n",
        "    words = file.readlines()\n",
        "\n",
        "# Filtreerime ja trükime tulemused\n",
        "filtered_words = [word.strip() for word in words if filter_words(word.strip())]\n",
        "\n",
        "# Trükime sobivad sõnad\n",
        "for word in filtered_words:\n",
        "    print(word)\n",
        "\n",
        "\n"
      ],
      "metadata": {
        "colab": {
          "base_uri": "https://localhost:8080/"
        },
        "id": "-_XQzreDjaeH",
        "outputId": "4d1e28a0-b4fd-4e2a-a202-4c882a6ee96c"
      },
      "execution_count": 30,
      "outputs": [
        {
          "output_type": "stream",
          "name": "stdout",
          "text": [
            "duett\n",
            "edutu\n",
            "teadu\n",
            "tuder\n"
          ]
        }
      ]
    }
  ]
}