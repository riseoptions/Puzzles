{
  "nbformat": 4,
  "nbformat_minor": 0,
  "metadata": {
    "colab": {
      "provenance": [],
      "authorship_tag": "ABX9TyMKx+5E3Mcd8ZhS1oWrV7su",
      "include_colab_link": true
    },
    "kernelspec": {
      "name": "python3",
      "display_name": "Python 3"
    },
    "language_info": {
      "name": "python"
    }
  },
  "cells": [
    {
      "cell_type": "markdown",
      "metadata": {
        "id": "view-in-github",
        "colab_type": "text"
      },
      "source": [
        "<a href=\"https://colab.research.google.com/github/riseoptions/Puzzles/blob/main/Wordle_comb.ipynb\" target=\"_parent\"><img src=\"https://colab.research.google.com/assets/colab-badge.svg\" alt=\"Open In Colab\"/></a>"
      ]
    },
    {
      "cell_type": "code",
      "source": [
        "from google.colab import files\n",
        "uploaded = files.upload()"
      ],
      "metadata": {
        "colab": {
          "base_uri": "https://localhost:8080/",
          "height": 73
        },
        "id": "8rqfyHYDv2-R",
        "outputId": "ca434756-c2f1-40e6-915e-9919ec3efe45"
      },
      "execution_count": 1,
      "outputs": [
        {
          "output_type": "display_data",
          "data": {
            "text/plain": [
              "<IPython.core.display.HTML object>"
            ],
            "text/html": [
              "\n",
              "     <input type=\"file\" id=\"files-e3d86000-e7b7-4d1d-9bf5-342fb5086b19\" name=\"files[]\" multiple disabled\n",
              "        style=\"border:none\" />\n",
              "     <output id=\"result-e3d86000-e7b7-4d1d-9bf5-342fb5086b19\">\n",
              "      Upload widget is only available when the cell has been executed in the\n",
              "      current browser session. Please rerun this cell to enable.\n",
              "      </output>\n",
              "      <script>// Copyright 2017 Google LLC\n",
              "//\n",
              "// Licensed under the Apache License, Version 2.0 (the \"License\");\n",
              "// you may not use this file except in compliance with the License.\n",
              "// You may obtain a copy of the License at\n",
              "//\n",
              "//      http://www.apache.org/licenses/LICENSE-2.0\n",
              "//\n",
              "// Unless required by applicable law or agreed to in writing, software\n",
              "// distributed under the License is distributed on an \"AS IS\" BASIS,\n",
              "// WITHOUT WARRANTIES OR CONDITIONS OF ANY KIND, either express or implied.\n",
              "// See the License for the specific language governing permissions and\n",
              "// limitations under the License.\n",
              "\n",
              "/**\n",
              " * @fileoverview Helpers for google.colab Python module.\n",
              " */\n",
              "(function(scope) {\n",
              "function span(text, styleAttributes = {}) {\n",
              "  const element = document.createElement('span');\n",
              "  element.textContent = text;\n",
              "  for (const key of Object.keys(styleAttributes)) {\n",
              "    element.style[key] = styleAttributes[key];\n",
              "  }\n",
              "  return element;\n",
              "}\n",
              "\n",
              "// Max number of bytes which will be uploaded at a time.\n",
              "const MAX_PAYLOAD_SIZE = 100 * 1024;\n",
              "\n",
              "function _uploadFiles(inputId, outputId) {\n",
              "  const steps = uploadFilesStep(inputId, outputId);\n",
              "  const outputElement = document.getElementById(outputId);\n",
              "  // Cache steps on the outputElement to make it available for the next call\n",
              "  // to uploadFilesContinue from Python.\n",
              "  outputElement.steps = steps;\n",
              "\n",
              "  return _uploadFilesContinue(outputId);\n",
              "}\n",
              "\n",
              "// This is roughly an async generator (not supported in the browser yet),\n",
              "// where there are multiple asynchronous steps and the Python side is going\n",
              "// to poll for completion of each step.\n",
              "// This uses a Promise to block the python side on completion of each step,\n",
              "// then passes the result of the previous step as the input to the next step.\n",
              "function _uploadFilesContinue(outputId) {\n",
              "  const outputElement = document.getElementById(outputId);\n",
              "  const steps = outputElement.steps;\n",
              "\n",
              "  const next = steps.next(outputElement.lastPromiseValue);\n",
              "  return Promise.resolve(next.value.promise).then((value) => {\n",
              "    // Cache the last promise value to make it available to the next\n",
              "    // step of the generator.\n",
              "    outputElement.lastPromiseValue = value;\n",
              "    return next.value.response;\n",
              "  });\n",
              "}\n",
              "\n",
              "/**\n",
              " * Generator function which is called between each async step of the upload\n",
              " * process.\n",
              " * @param {string} inputId Element ID of the input file picker element.\n",
              " * @param {string} outputId Element ID of the output display.\n",
              " * @return {!Iterable<!Object>} Iterable of next steps.\n",
              " */\n",
              "function* uploadFilesStep(inputId, outputId) {\n",
              "  const inputElement = document.getElementById(inputId);\n",
              "  inputElement.disabled = false;\n",
              "\n",
              "  const outputElement = document.getElementById(outputId);\n",
              "  outputElement.innerHTML = '';\n",
              "\n",
              "  const pickedPromise = new Promise((resolve) => {\n",
              "    inputElement.addEventListener('change', (e) => {\n",
              "      resolve(e.target.files);\n",
              "    });\n",
              "  });\n",
              "\n",
              "  const cancel = document.createElement('button');\n",
              "  inputElement.parentElement.appendChild(cancel);\n",
              "  cancel.textContent = 'Cancel upload';\n",
              "  const cancelPromise = new Promise((resolve) => {\n",
              "    cancel.onclick = () => {\n",
              "      resolve(null);\n",
              "    };\n",
              "  });\n",
              "\n",
              "  // Wait for the user to pick the files.\n",
              "  const files = yield {\n",
              "    promise: Promise.race([pickedPromise, cancelPromise]),\n",
              "    response: {\n",
              "      action: 'starting',\n",
              "    }\n",
              "  };\n",
              "\n",
              "  cancel.remove();\n",
              "\n",
              "  // Disable the input element since further picks are not allowed.\n",
              "  inputElement.disabled = true;\n",
              "\n",
              "  if (!files) {\n",
              "    return {\n",
              "      response: {\n",
              "        action: 'complete',\n",
              "      }\n",
              "    };\n",
              "  }\n",
              "\n",
              "  for (const file of files) {\n",
              "    const li = document.createElement('li');\n",
              "    li.append(span(file.name, {fontWeight: 'bold'}));\n",
              "    li.append(span(\n",
              "        `(${file.type || 'n/a'}) - ${file.size} bytes, ` +\n",
              "        `last modified: ${\n",
              "            file.lastModifiedDate ? file.lastModifiedDate.toLocaleDateString() :\n",
              "                                    'n/a'} - `));\n",
              "    const percent = span('0% done');\n",
              "    li.appendChild(percent);\n",
              "\n",
              "    outputElement.appendChild(li);\n",
              "\n",
              "    const fileDataPromise = new Promise((resolve) => {\n",
              "      const reader = new FileReader();\n",
              "      reader.onload = (e) => {\n",
              "        resolve(e.target.result);\n",
              "      };\n",
              "      reader.readAsArrayBuffer(file);\n",
              "    });\n",
              "    // Wait for the data to be ready.\n",
              "    let fileData = yield {\n",
              "      promise: fileDataPromise,\n",
              "      response: {\n",
              "        action: 'continue',\n",
              "      }\n",
              "    };\n",
              "\n",
              "    // Use a chunked sending to avoid message size limits. See b/62115660.\n",
              "    let position = 0;\n",
              "    do {\n",
              "      const length = Math.min(fileData.byteLength - position, MAX_PAYLOAD_SIZE);\n",
              "      const chunk = new Uint8Array(fileData, position, length);\n",
              "      position += length;\n",
              "\n",
              "      const base64 = btoa(String.fromCharCode.apply(null, chunk));\n",
              "      yield {\n",
              "        response: {\n",
              "          action: 'append',\n",
              "          file: file.name,\n",
              "          data: base64,\n",
              "        },\n",
              "      };\n",
              "\n",
              "      let percentDone = fileData.byteLength === 0 ?\n",
              "          100 :\n",
              "          Math.round((position / fileData.byteLength) * 100);\n",
              "      percent.textContent = `${percentDone}% done`;\n",
              "\n",
              "    } while (position < fileData.byteLength);\n",
              "  }\n",
              "\n",
              "  // All done.\n",
              "  yield {\n",
              "    response: {\n",
              "      action: 'complete',\n",
              "    }\n",
              "  };\n",
              "}\n",
              "\n",
              "scope.google = scope.google || {};\n",
              "scope.google.colab = scope.google.colab || {};\n",
              "scope.google.colab._files = {\n",
              "  _uploadFiles,\n",
              "  _uploadFilesContinue,\n",
              "};\n",
              "})(self);\n",
              "</script> "
            ]
          },
          "metadata": {}
        },
        {
          "output_type": "stream",
          "name": "stdout",
          "text": [
            "Saving lemmad.txt to lemmad.txt\n"
          ]
        }
      ]
    },
    {
      "cell_type": "code",
      "source": [
        "# Faili lugemine\n",
        "file_name = list(uploaded.keys())[0]  # Võtab üleslaaditud faili nime\n",
        "with open(file_name, 'r', encoding='utf-8') as file:\n",
        "    words = file.readlines()\n"
      ],
      "metadata": {
        "id": "f_2ed8CKwFVj"
      },
      "execution_count": 2,
      "outputs": []
    },
    {
      "cell_type": "code",
      "source": [
        "# Loeme sõnad failist ja rakendame filtreerimise\n",
        "with open('lemmad.txt', 'r', encoding='utf-8') as file:\n",
        "    words = file.readlines()"
      ],
      "metadata": {
        "id": "qIksTU_Kvcp3"
      },
      "execution_count": null,
      "outputs": []
    },
    {
      "cell_type": "markdown",
      "source": [
        "![Screenshot 2025-02-06 165623.png](data:image/png;base64,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)"
      ],
      "metadata": {
        "id": "2eGUicKnw4Xm"
      }
    },
    {
      "cell_type": "code",
      "execution_count": 6,
      "metadata": {
        "id": "g_l16fRuvHDl"
      },
      "outputs": [],
      "source": [
        "# Funktsioon sõnade filtreerimiseks\n",
        "def filter_words(word):\n",
        "    required_letters = set('kil')\n",
        "    forbidden_letters = set('terau')\n",
        "\n",
        "    # Kontrollime, et sõna on täpselt N tähemärki pikk\n",
        "    if len(word) != 4:\n",
        "        return False\n",
        "\n",
        "    # Kontrollime, et sõna sisaldab vajalikke tähti ja ei sisalda keelatud tähti\n",
        "    if not (required_letters.issubset(set(word)) and not forbidden_letters.intersection(set(word))):\n",
        "        return False\n",
        "\n",
        "    # Täiendavad positsioonitingimused\n",
        "    if word[0] != 'k' or word[1] != 'i' or word[2] != 'l':\n",
        "        return False\n",
        "\n",
        "    return True"
      ]
    },
    {
      "cell_type": "code",
      "source": [
        "# Filtreerime ja trükime tulemused\n",
        "filtered_words = [word.strip() for word in words if filter_words(word.strip())]"
      ],
      "metadata": {
        "id": "T0FD_acovXY9"
      },
      "execution_count": 4,
      "outputs": []
    },
    {
      "cell_type": "code",
      "source": [
        "# Trükime sobivad sõnad\n",
        "for word in filtered_words:\n",
        "    print(word)"
      ],
      "metadata": {
        "colab": {
          "base_uri": "https://localhost:8080/"
        },
        "id": "vk2BuH87vgxK",
        "outputId": "7aa3cbad-b971-48c3-c821-4fb82bae9b1a"
      },
      "execution_count": 5,
      "outputs": [
        {
          "output_type": "stream",
          "name": "stdout",
          "text": [
            "kilb\n",
            "kild\n",
            "kili\n",
            "kilk\n",
            "kill\n",
            "kilo\n",
            "kilp\n"
          ]
        }
      ]
    }
  ]
}