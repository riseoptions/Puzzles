{
  "nbformat": 4,
  "nbformat_minor": 0,
  "metadata": {
    "colab": {
      "provenance": [],
      "authorship_tag": "ABX9TyNRq/p47XE4+v+ARbfe5Jtt",
      "include_colab_link": true
    },
    "kernelspec": {
      "name": "python3",
      "display_name": "Python 3"
    },
    "language_info": {
      "name": "python"
    }
  },
  "cells": [
    {
      "cell_type": "markdown",
      "metadata": {
        "id": "view-in-github",
        "colab_type": "text"
      },
      "source": [
        "<a href=\"https://colab.research.google.com/github/riseoptions/Puzzles/blob/main/Wordle_comb_EN.ipynb\" target=\"_parent\"><img src=\"https://colab.research.google.com/assets/colab-badge.svg\" alt=\"Open In Colab\"/></a>"
      ]
    },
    {
      "cell_type": "code",
      "execution_count": 1,
      "metadata": {
        "colab": {
          "base_uri": "https://localhost:8080/",
          "height": 73
        },
        "id": "f_H7-aavIRyd",
        "outputId": "1de8b407-ef73-4605-8d6a-2b81d754aad9"
      },
      "outputs": [
        {
          "output_type": "display_data",
          "data": {
            "text/plain": [
              "<IPython.core.display.HTML object>"
            ],
            "text/html": [
              "\n",
              "     <input type=\"file\" id=\"files-29cbb6f4-608a-47e5-a4c2-61f313adf76d\" name=\"files[]\" multiple disabled\n",
              "        style=\"border:none\" />\n",
              "     <output id=\"result-29cbb6f4-608a-47e5-a4c2-61f313adf76d\">\n",
              "      Upload widget is only available when the cell has been executed in the\n",
              "      current browser session. Please rerun this cell to enable.\n",
              "      </output>\n",
              "      <script>// Copyright 2017 Google LLC\n",
              "//\n",
              "// Licensed under the Apache License, Version 2.0 (the \"License\");\n",
              "// you may not use this file except in compliance with the License.\n",
              "// You may obtain a copy of the License at\n",
              "//\n",
              "//      http://www.apache.org/licenses/LICENSE-2.0\n",
              "//\n",
              "// Unless required by applicable law or agreed to in writing, software\n",
              "// distributed under the License is distributed on an \"AS IS\" BASIS,\n",
              "// WITHOUT WARRANTIES OR CONDITIONS OF ANY KIND, either express or implied.\n",
              "// See the License for the specific language governing permissions and\n",
              "// limitations under the License.\n",
              "\n",
              "/**\n",
              " * @fileoverview Helpers for google.colab Python module.\n",
              " */\n",
              "(function(scope) {\n",
              "function span(text, styleAttributes = {}) {\n",
              "  const element = document.createElement('span');\n",
              "  element.textContent = text;\n",
              "  for (const key of Object.keys(styleAttributes)) {\n",
              "    element.style[key] = styleAttributes[key];\n",
              "  }\n",
              "  return element;\n",
              "}\n",
              "\n",
              "// Max number of bytes which will be uploaded at a time.\n",
              "const MAX_PAYLOAD_SIZE = 100 * 1024;\n",
              "\n",
              "function _uploadFiles(inputId, outputId) {\n",
              "  const steps = uploadFilesStep(inputId, outputId);\n",
              "  const outputElement = document.getElementById(outputId);\n",
              "  // Cache steps on the outputElement to make it available for the next call\n",
              "  // to uploadFilesContinue from Python.\n",
              "  outputElement.steps = steps;\n",
              "\n",
              "  return _uploadFilesContinue(outputId);\n",
              "}\n",
              "\n",
              "// This is roughly an async generator (not supported in the browser yet),\n",
              "// where there are multiple asynchronous steps and the Python side is going\n",
              "// to poll for completion of each step.\n",
              "// This uses a Promise to block the python side on completion of each step,\n",
              "// then passes the result of the previous step as the input to the next step.\n",
              "function _uploadFilesContinue(outputId) {\n",
              "  const outputElement = document.getElementById(outputId);\n",
              "  const steps = outputElement.steps;\n",
              "\n",
              "  const next = steps.next(outputElement.lastPromiseValue);\n",
              "  return Promise.resolve(next.value.promise).then((value) => {\n",
              "    // Cache the last promise value to make it available to the next\n",
              "    // step of the generator.\n",
              "    outputElement.lastPromiseValue = value;\n",
              "    return next.value.response;\n",
              "  });\n",
              "}\n",
              "\n",
              "/**\n",
              " * Generator function which is called between each async step of the upload\n",
              " * process.\n",
              " * @param {string} inputId Element ID of the input file picker element.\n",
              " * @param {string} outputId Element ID of the output display.\n",
              " * @return {!Iterable<!Object>} Iterable of next steps.\n",
              " */\n",
              "function* uploadFilesStep(inputId, outputId) {\n",
              "  const inputElement = document.getElementById(inputId);\n",
              "  inputElement.disabled = false;\n",
              "\n",
              "  const outputElement = document.getElementById(outputId);\n",
              "  outputElement.innerHTML = '';\n",
              "\n",
              "  const pickedPromise = new Promise((resolve) => {\n",
              "    inputElement.addEventListener('change', (e) => {\n",
              "      resolve(e.target.files);\n",
              "    });\n",
              "  });\n",
              "\n",
              "  const cancel = document.createElement('button');\n",
              "  inputElement.parentElement.appendChild(cancel);\n",
              "  cancel.textContent = 'Cancel upload';\n",
              "  const cancelPromise = new Promise((resolve) => {\n",
              "    cancel.onclick = () => {\n",
              "      resolve(null);\n",
              "    };\n",
              "  });\n",
              "\n",
              "  // Wait for the user to pick the files.\n",
              "  const files = yield {\n",
              "    promise: Promise.race([pickedPromise, cancelPromise]),\n",
              "    response: {\n",
              "      action: 'starting',\n",
              "    }\n",
              "  };\n",
              "\n",
              "  cancel.remove();\n",
              "\n",
              "  // Disable the input element since further picks are not allowed.\n",
              "  inputElement.disabled = true;\n",
              "\n",
              "  if (!files) {\n",
              "    return {\n",
              "      response: {\n",
              "        action: 'complete',\n",
              "      }\n",
              "    };\n",
              "  }\n",
              "\n",
              "  for (const file of files) {\n",
              "    const li = document.createElement('li');\n",
              "    li.append(span(file.name, {fontWeight: 'bold'}));\n",
              "    li.append(span(\n",
              "        `(${file.type || 'n/a'}) - ${file.size} bytes, ` +\n",
              "        `last modified: ${\n",
              "            file.lastModifiedDate ? file.lastModifiedDate.toLocaleDateString() :\n",
              "                                    'n/a'} - `));\n",
              "    const percent = span('0% done');\n",
              "    li.appendChild(percent);\n",
              "\n",
              "    outputElement.appendChild(li);\n",
              "\n",
              "    const fileDataPromise = new Promise((resolve) => {\n",
              "      const reader = new FileReader();\n",
              "      reader.onload = (e) => {\n",
              "        resolve(e.target.result);\n",
              "      };\n",
              "      reader.readAsArrayBuffer(file);\n",
              "    });\n",
              "    // Wait for the data to be ready.\n",
              "    let fileData = yield {\n",
              "      promise: fileDataPromise,\n",
              "      response: {\n",
              "        action: 'continue',\n",
              "      }\n",
              "    };\n",
              "\n",
              "    // Use a chunked sending to avoid message size limits. See b/62115660.\n",
              "    let position = 0;\n",
              "    do {\n",
              "      const length = Math.min(fileData.byteLength - position, MAX_PAYLOAD_SIZE);\n",
              "      const chunk = new Uint8Array(fileData, position, length);\n",
              "      position += length;\n",
              "\n",
              "      const base64 = btoa(String.fromCharCode.apply(null, chunk));\n",
              "      yield {\n",
              "        response: {\n",
              "          action: 'append',\n",
              "          file: file.name,\n",
              "          data: base64,\n",
              "        },\n",
              "      };\n",
              "\n",
              "      let percentDone = fileData.byteLength === 0 ?\n",
              "          100 :\n",
              "          Math.round((position / fileData.byteLength) * 100);\n",
              "      percent.textContent = `${percentDone}% done`;\n",
              "\n",
              "    } while (position < fileData.byteLength);\n",
              "  }\n",
              "\n",
              "  // All done.\n",
              "  yield {\n",
              "    response: {\n",
              "      action: 'complete',\n",
              "    }\n",
              "  };\n",
              "}\n",
              "\n",
              "scope.google = scope.google || {};\n",
              "scope.google.colab = scope.google.colab || {};\n",
              "scope.google.colab._files = {\n",
              "  _uploadFiles,\n",
              "  _uploadFilesContinue,\n",
              "};\n",
              "})(self);\n",
              "</script> "
            ]
          },
          "metadata": {}
        },
        {
          "output_type": "stream",
          "name": "stdout",
          "text": [
            "Saving words_alpha.txt to words_alpha.txt\n"
          ]
        }
      ],
      "source": [
        "from google.colab import files\n",
        "uploaded = files.upload()"
      ]
    },
    {
      "cell_type": "code",
      "source": [
        "# Faili lugemine\n",
        "file_name = list(uploaded.keys())[0]  # Võtab üleslaaditud faili nime\n",
        "with open(file_name, 'r', encoding='utf-8') as file:\n",
        "    words = file.readlines()"
      ],
      "metadata": {
        "id": "5sduMUOdIbg8"
      },
      "execution_count": 2,
      "outputs": []
    },
    {
      "cell_type": "markdown",
      "source": [
        "![Screenshot 2025-02-06 185046.png](data:image/png;base64,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)"
      ],
      "metadata": {
        "id": "QLvuxePmLBHA"
      }
    },
    {
      "cell_type": "code",
      "source": [
        "# Funktsioon sõnade filtreerimiseks\n",
        "def filter_words(word):\n",
        "    required_letters = set('ali')\n",
        "    forbidden_letters = set('drempoksfght')\n",
        "\n",
        "    # Kontrollime, et sõna on täpselt N tähemärki pikk\n",
        "    if len(word) != 5:\n",
        "        return False\n",
        "\n",
        "    # Kontrollime, et sõna sisaldab vajalikke tähti ja ei sisalda keelatud tähti\n",
        "    if not (required_letters.issubset(set(word)) and not forbidden_letters.intersection(set(word))):\n",
        "        return False\n",
        "\n",
        "    # Täiendavad positsioonitingimused\n",
        "    if word[2] != 'l' or word[3] != 'a' or word[1] == 'i' :\n",
        "        return False\n",
        "\n",
        "    return True"
      ],
      "metadata": {
        "id": "5lrb2rbfIeV6"
      },
      "execution_count": 9,
      "outputs": []
    },
    {
      "cell_type": "code",
      "source": [
        "# Filtreerime ja trükime tulemused\n",
        "filtered_words = [word.strip() for word in words if filter_words(word.strip())]"
      ],
      "metadata": {
        "id": "Tsla_oHrIisP"
      },
      "execution_count": 10,
      "outputs": []
    },
    {
      "cell_type": "code",
      "source": [
        "# Trükime sobivad sõnad\n",
        "for word in filtered_words:\n",
        "    print(word)"
      ],
      "metadata": {
        "colab": {
          "base_uri": "https://localhost:8080/"
        },
        "id": "xCNfPoAFIlxk",
        "outputId": "d149bc71-b907-46ed-ac49-7661991500c3"
      },
      "execution_count": 11,
      "outputs": [
        {
          "output_type": "stream",
          "name": "stdout",
          "text": [
            "balai\n",
            "inlay\n",
            "inlaw\n"
          ]
        }
      ]
    }
  ]
}