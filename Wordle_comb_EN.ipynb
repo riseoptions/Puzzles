{
  "nbformat": 4,
  "nbformat_minor": 0,
  "metadata": {
    "colab": {
      "provenance": [],
      "authorship_tag": "ABX9TyO1RTyuUm9BjP9sdUvS4U+F",
      "include_colab_link": true
    },
    "kernelspec": {
      "name": "python3",
      "display_name": "Python 3"
    },
    "language_info": {
      "name": "python"
    }
  },
  "cells": [
    {
      "cell_type": "markdown",
      "metadata": {
        "id": "view-in-github",
        "colab_type": "text"
      },
      "source": [
        "<a href=\"https://colab.research.google.com/github/riseoptions/Puzzles/blob/main/Wordle_comb_EN.ipynb\" target=\"_parent\"><img src=\"https://colab.research.google.com/assets/colab-badge.svg\" alt=\"Open In Colab\"/></a>"
      ]
    },
    {
      "cell_type": "code",
      "execution_count": 1,
      "metadata": {
        "colab": {
          "base_uri": "https://localhost:8080/",
          "height": 73
        },
        "id": "f_H7-aavIRyd",
        "outputId": "1de8b407-ef73-4605-8d6a-2b81d754aad9"
      },
      "outputs": [
        {
          "output_type": "display_data",
          "data": {
            "text/plain": [
              "<IPython.core.display.HTML object>"
            ],
            "text/html": [
              "\n",
              "     <input type=\"file\" id=\"files-29cbb6f4-608a-47e5-a4c2-61f313adf76d\" name=\"files[]\" multiple disabled\n",
              "        style=\"border:none\" />\n",
              "     <output id=\"result-29cbb6f4-608a-47e5-a4c2-61f313adf76d\">\n",
              "      Upload widget is only available when the cell has been executed in the\n",
              "      current browser session. Please rerun this cell to enable.\n",
              "      </output>\n",
              "      <script>// Copyright 2017 Google LLC\n",
              "//\n",
              "// Licensed under the Apache License, Version 2.0 (the \"License\");\n",
              "// you may not use this file except in compliance with the License.\n",
              "// You may obtain a copy of the License at\n",
              "//\n",
              "//      http://www.apache.org/licenses/LICENSE-2.0\n",
              "//\n",
              "// Unless required by applicable law or agreed to in writing, software\n",
              "// distributed under the License is distributed on an \"AS IS\" BASIS,\n",
              "// WITHOUT WARRANTIES OR CONDITIONS OF ANY KIND, either express or implied.\n",
              "// See the License for the specific language governing permissions and\n",
              "// limitations under the License.\n",
              "\n",
              "/**\n",
              " * @fileoverview Helpers for google.colab Python module.\n",
              " */\n",
              "(function(scope) {\n",
              "function span(text, styleAttributes = {}) {\n",
              "  const element = document.createElement('span');\n",
              "  element.textContent = text;\n",
              "  for (const key of Object.keys(styleAttributes)) {\n",
              "    element.style[key] = styleAttributes[key];\n",
              "  }\n",
              "  return element;\n",
              "}\n",
              "\n",
              "// Max number of bytes which will be uploaded at a time.\n",
              "const MAX_PAYLOAD_SIZE = 100 * 1024;\n",
              "\n",
              "function _uploadFiles(inputId, outputId) {\n",
              "  const steps = uploadFilesStep(inputId, outputId);\n",
              "  const outputElement = document.getElementById(outputId);\n",
              "  // Cache steps on the outputElement to make it available for the next call\n",
              "  // to uploadFilesContinue from Python.\n",
              "  outputElement.steps = steps;\n",
              "\n",
              "  return _uploadFilesContinue(outputId);\n",
              "}\n",
              "\n",
              "// This is roughly an async generator (not supported in the browser yet),\n",
              "// where there are multiple asynchronous steps and the Python side is going\n",
              "// to poll for completion of each step.\n",
              "// This uses a Promise to block the python side on completion of each step,\n",
              "// then passes the result of the previous step as the input to the next step.\n",
              "function _uploadFilesContinue(outputId) {\n",
              "  const outputElement = document.getElementById(outputId);\n",
              "  const steps = outputElement.steps;\n",
              "\n",
              "  const next = steps.next(outputElement.lastPromiseValue);\n",
              "  return Promise.resolve(next.value.promise).then((value) => {\n",
              "    // Cache the last promise value to make it available to the next\n",
              "    // step of the generator.\n",
              "    outputElement.lastPromiseValue = value;\n",
              "    return next.value.response;\n",
              "  });\n",
              "}\n",
              "\n",
              "/**\n",
              " * Generator function which is called between each async step of the upload\n",
              " * process.\n",
              " * @param {string} inputId Element ID of the input file picker element.\n",
              " * @param {string} outputId Element ID of the output display.\n",
              " * @return {!Iterable<!Object>} Iterable of next steps.\n",
              " */\n",
              "function* uploadFilesStep(inputId, outputId) {\n",
              "  const inputElement = document.getElementById(inputId);\n",
              "  inputElement.disabled = false;\n",
              "\n",
              "  const outputElement = document.getElementById(outputId);\n",
              "  outputElement.innerHTML = '';\n",
              "\n",
              "  const pickedPromise = new Promise((resolve) => {\n",
              "    inputElement.addEventListener('change', (e) => {\n",
              "      resolve(e.target.files);\n",
              "    });\n",
              "  });\n",
              "\n",
              "  const cancel = document.createElement('button');\n",
              "  inputElement.parentElement.appendChild(cancel);\n",
              "  cancel.textContent = 'Cancel upload';\n",
              "  const cancelPromise = new Promise((resolve) => {\n",
              "    cancel.onclick = () => {\n",
              "      resolve(null);\n",
              "    };\n",
              "  });\n",
              "\n",
              "  // Wait for the user to pick the files.\n",
              "  const files = yield {\n",
              "    promise: Promise.race([pickedPromise, cancelPromise]),\n",
              "    response: {\n",
              "      action: 'starting',\n",
              "    }\n",
              "  };\n",
              "\n",
              "  cancel.remove();\n",
              "\n",
              "  // Disable the input element since further picks are not allowed.\n",
              "  inputElement.disabled = true;\n",
              "\n",
              "  if (!files) {\n",
              "    return {\n",
              "      response: {\n",
              "        action: 'complete',\n",
              "      }\n",
              "    };\n",
              "  }\n",
              "\n",
              "  for (const file of files) {\n",
              "    const li = document.createElement('li');\n",
              "    li.append(span(file.name, {fontWeight: 'bold'}));\n",
              "    li.append(span(\n",
              "        `(${file.type || 'n/a'}) - ${file.size} bytes, ` +\n",
              "        `last modified: ${\n",
              "            file.lastModifiedDate ? file.lastModifiedDate.toLocaleDateString() :\n",
              "                                    'n/a'} - `));\n",
              "    const percent = span('0% done');\n",
              "    li.appendChild(percent);\n",
              "\n",
              "    outputElement.appendChild(li);\n",
              "\n",
              "    const fileDataPromise = new Promise((resolve) => {\n",
              "      const reader = new FileReader();\n",
              "      reader.onload = (e) => {\n",
              "        resolve(e.target.result);\n",
              "      };\n",
              "      reader.readAsArrayBuffer(file);\n",
              "    });\n",
              "    // Wait for the data to be ready.\n",
              "    let fileData = yield {\n",
              "      promise: fileDataPromise,\n",
              "      response: {\n",
              "        action: 'continue',\n",
              "      }\n",
              "    };\n",
              "\n",
              "    // Use a chunked sending to avoid message size limits. See b/62115660.\n",
              "    let position = 0;\n",
              "    do {\n",
              "      const length = Math.min(fileData.byteLength - position, MAX_PAYLOAD_SIZE);\n",
              "      const chunk = new Uint8Array(fileData, position, length);\n",
              "      position += length;\n",
              "\n",
              "      const base64 = btoa(String.fromCharCode.apply(null, chunk));\n",
              "      yield {\n",
              "        response: {\n",
              "          action: 'append',\n",
              "          file: file.name,\n",
              "          data: base64,\n",
              "        },\n",
              "      };\n",
              "\n",
              "      let percentDone = fileData.byteLength === 0 ?\n",
              "          100 :\n",
              "          Math.round((position / fileData.byteLength) * 100);\n",
              "      percent.textContent = `${percentDone}% done`;\n",
              "\n",
              "    } while (position < fileData.byteLength);\n",
              "  }\n",
              "\n",
              "  // All done.\n",
              "  yield {\n",
              "    response: {\n",
              "      action: 'complete',\n",
              "    }\n",
              "  };\n",
              "}\n",
              "\n",
              "scope.google = scope.google || {};\n",
              "scope.google.colab = scope.google.colab || {};\n",
              "scope.google.colab._files = {\n",
              "  _uploadFiles,\n",
              "  _uploadFilesContinue,\n",
              "};\n",
              "})(self);\n",
              "</script> "
            ]
          },
          "metadata": {}
        },
        {
          "output_type": "stream",
          "name": "stdout",
          "text": [
            "Saving words_alpha.txt to words_alpha.txt\n"
          ]
        }
      ],
      "source": [
        "from google.colab import files\n",
        "uploaded = files.upload()"
      ]
    },
    {
      "cell_type": "code",
      "source": [
        "# Faili lugemine\n",
        "file_name = list(uploaded.keys())[0]  # Võtab üleslaaditud faili nime\n",
        "with open(file_name, 'r', encoding='utf-8') as file:\n",
        "    words = file.readlines()"
      ],
      "metadata": {
        "id": "5sduMUOdIbg8"
      },
      "execution_count": 2,
      "outputs": []
    },
    {
      "cell_type": "markdown",
      "source": [
        "![Screenshot 2025-02-06 185510.png](data:image/png;base64,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)"
      ],
      "metadata": {
        "id": "BM6SDGDQMAVs"
      }
    },
    {
      "cell_type": "code",
      "source": [
        "# Funktsioon sõnade filtreerimiseks\n",
        "def filter_words(word):\n",
        "    required_letters = set('ali')\n",
        "    forbidden_letters = set('drempoksfght')\n",
        "\n",
        "    # Kontrollime, et sõna on täpselt N tähemärki pikk\n",
        "    if len(word) != 5:\n",
        "        return False\n",
        "\n",
        "    # Kontrollime, et sõna sisaldab vajalikke tähti ja ei sisalda keelatud tähti\n",
        "    if not (required_letters.issubset(set(word)) and not forbidden_letters.intersection(set(word))):\n",
        "        return False\n",
        "\n",
        "    # Täiendavad positsioonitingimused\n",
        "    if word[2] != 'l' or word[3] != 'a' or word[1] == 'i' :\n",
        "        return False\n",
        "\n",
        "    return True"
      ],
      "metadata": {
        "id": "5lrb2rbfIeV6"
      },
      "execution_count": 9,
      "outputs": []
    },
    {
      "cell_type": "code",
      "source": [
        "# Filtreerime ja trükime tulemused\n",
        "filtered_words = [word.strip() for word in words if filter_words(word.strip())]"
      ],
      "metadata": {
        "id": "Tsla_oHrIisP"
      },
      "execution_count": 10,
      "outputs": []
    },
    {
      "cell_type": "code",
      "source": [
        "# Trükime sobivad sõnad\n",
        "for word in filtered_words:\n",
        "    print(word)"
      ],
      "metadata": {
        "colab": {
          "base_uri": "https://localhost:8080/"
        },
        "id": "xCNfPoAFIlxk",
        "outputId": "d149bc71-b907-46ed-ac49-7661991500c3"
      },
      "execution_count": 11,
      "outputs": [
        {
          "output_type": "stream",
          "name": "stdout",
          "text": [
            "balai\n",
            "inlay\n",
            "inlaw\n"
          ]
        }
      ]
    },
    {
      "cell_type": "markdown",
      "source": [
        "![Screenshot 2025-02-06 185046.png](data:image/png;base64,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)"
      ],
      "metadata": {
        "id": "dh6wxr9aMEIf"
      }
    },
    {
      "cell_type": "markdown",
      "source": [],
      "metadata": {
        "id": "0j6OD5NBMH7-"
      }
    }
  ]
}